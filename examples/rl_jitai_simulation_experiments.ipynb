{
  "cells": [
    {
      "cell_type": "markdown",
      "metadata": {
        "id": "AaT0sgVkr8PI"
      },
      "source": [
        "# Assessing the Impact of Context Inference Error and Partial Observability on RL Methods for Just-In-Time Adaptive Interventions\n",
        "\n",
        "# <a href=\"https://colab.research.google.com/github/reml-lab/rl_jitai_simulation/blob/main/examples/rl_jitai_simulation_experiments.ipynb\" target=\"_parent\"><img src=\"https://colab.research.google.com/assets/colab-badge.svg\" alt=\"Open In Colab\"/></a>\n",
        "\n",
        "This is an official notebook for the paper **\"Assessing the Impact of Context Inference Error and Partial Observability on RL Methods for Just-In-Time Adaptive Interventions\"**, accepted at UAI 2023.\n",
        "\n",
        "**Paper links**: the arXiv version and the published paper links are:\n",
        "\n",
        "+ [arXiv link](https://arxiv.org/abs/2305.09913)\n",
        "+ [UAI 2023 link](https://proceedings.mlr.press/v216/karine23a.html)\n",
        "\n",
        "**Paper abstract**:\n",
        "Just-in-Time Adaptive Interventions (JITAIs) are a class of personalized health interventions developed within the behavioral science community. JITAIs aim to provide the right type and amount of support by iteratively selecting a sequence of intervention options from a pre-defined set of components in response to each individual's time varying state. In this work, we explore the application of reinforcement learning methods to the problem of learning intervention option selection policies. We study the effect of context inference error and partial observability on the ability to learn effective policies. Our results show that the propagation of uncertainty from context inferences is critical to improving intervention efficacy as context uncertainty increases, while policy gradient algorithms can provide remarkable robustness to partially observed behavioral state information.\n",
        "\n",
        "**This notebook**: we describe how to reproduce similar results to the paper."
      ]
    },
    {
      "cell_type": "code",
      "source": [],
      "metadata": {
        "id": "mWLK9lD4LTe7"
      },
      "execution_count": null,
      "outputs": []
    },
    {
      "cell_type": "markdown",
      "metadata": {
        "id": "FyxNgoqHumAD"
      },
      "source": [
        "# Initialize Code"
      ]
    },
    {
      "cell_type": "code",
      "execution_count": null,
      "metadata": {
        "id": "hWnKsimiumy0"
      },
      "outputs": [],
      "source": [
        "!pip install rl_jitai_simulation"
      ]
    },
    {
      "cell_type": "code",
      "execution_count": null,
      "metadata": {
        "id": "2WnBuwb_2A8_"
      },
      "outputs": [],
      "source": [
        "import matplotlib.pyplot as plt\n",
        "import numpy as np\n",
        "import torch\n",
        "import os\n",
        "from tqdm import tqdm\n",
        "DASH = '----------------------------------------------------------'"
      ]
    },
    {
      "cell_type": "code",
      "execution_count": null,
      "metadata": {
        "id": "o4zedRFX8rq1"
      },
      "outputs": [],
      "source": [
        "from RL.rl_jitai_simulation.envs import JITAI_env\n",
        "from RL.rl_jitai_simulation.agents import ReinforceAgent, DQNAgent"
      ]
    },
    {
      "cell_type": "code",
      "execution_count": null,
      "metadata": {
        "id": "NZHavZvyQt2u"
      },
      "outputs": [],
      "source": []
    },
    {
      "cell_type": "markdown",
      "metadata": {
        "id": "ymooF97uu4o3"
      },
      "source": [
        "# 1. Introduction\n",
        "\n",
        "We provide a description of the JITAI Simulation Environment, and the code to run an RL loop, using DQN and REINFORCE."
      ]
    },
    {
      "cell_type": "markdown",
      "metadata": {
        "id": "7I22_oG9HN2x"
      },
      "source": [
        "## 1.1 Description of the JITAI Simulation Environment\n",
        "\n",
        "+ JITAI env produces various observations variables (obs). The possible obs names are: ```'C', 'P', 'L', 'H', 'D', 'T'```. These can be set using ```chosen_obs_names```, for example: ```chosen_obs_names=['C','H','D']```, ```['L','H','D']``` or ```['P','T']```, etc., where C is for true contex, P is for probability of context=0, L is for inferred context, H is for habituation, D is for disengagement and T is the binary indicator. Note that all obs samples are augmented by the time inhomogeneous vector, as described in the paper.\n",
        "\n",
        "+ There are 4 possible actions (action values are: ```0,1,2,3```).\n",
        "\n",
        "+ JITAI env default parameters are: habituation decay ```δh=0.1```, habituation increment  ```εh=0.05```, disengagement decay ```δd=0.1```, disengagement increment ```εd=0.1```, base reward (for $a_t=1$) ```ρ1=50```, base reward (for $a_t=c_t+2$) ```ρ2=200```. The feature uncertainty ```sigma``` values are: ```0, 0.4,..., 2```.\n",
        "\n",
        "+ JITAI env is built on top of OpenAI gym environment, and can be plugged in as an Open AI gym environment in an RL loop."
      ]
    },
    {
      "cell_type": "markdown",
      "metadata": {
        "id": "A1Tkdp2NGt5W"
      },
      "source": [
        "## 1.2 Code to run RL loop for DQN and REINFORCE"
      ]
    },
    {
      "cell_type": "code",
      "execution_count": null,
      "metadata": {
        "id": "rWOo5ZRKLxj3"
      },
      "outputs": [],
      "source": [
        "def run_RL_loop_DQN(env, agent, n_episodes, b_train, b_plot=False, plot_title='', y_lim=(-200,3500)):\n",
        "  return_values = []\n",
        "  for i in tqdm(range(n_episodes), desc =\"DQN {} σ={} duration\".format(env.chosen_obs_names_str, env.sigma)):\n",
        "    obs = env.reset()\n",
        "    return_value = 0\n",
        "    done = False\n",
        "    while not done:\n",
        "      action = agent.choose_action(obs)\n",
        "      obs_, reward, done, info = env.step(action)\n",
        "      agent.observe(obs, action, reward, obs_, done)\n",
        "      if b_train: agent.update()\n",
        "      obs = obs_\n",
        "      return_value += reward\n",
        "    return_values.append(return_value)\n",
        "  if b_plot:\n",
        "    plt.figure(figsize=(3,2))\n",
        "    plt.plot(return_values)\n",
        "    if len(plot_title) < 1:\n",
        "      plot_title = ' (σ={})'.format(env.sigma)\n",
        "    plt.title('DQN {} learning{}'.format(env.chosen_obs_names_str, plot_title))\n",
        "    plt.ylim(y_lim); plt.xlabel('episode'); plt.ylabel('return'); plt.grid(); plt.show()\n",
        "  return return_values\n",
        "\n",
        "def run_RL_loop_REINFORCE(env, agent, M, n_episodes, b_train, b_plot=False, plot_title='', y_lim=(-200,3500)):\n",
        "  return_values = []\n",
        "  for i in tqdm(range(n_episodes), desc =\"REINFORCE {} σ={} duration\".format(env.chosen_obs_names_str, env.sigma)):\n",
        "    if b_train: agent.init_grad()\n",
        "    return_samples = []\n",
        "    for m in range(M):\n",
        "      obs = env.reset()\n",
        "      return_sample = 0\n",
        "      done = False\n",
        "      while not done:\n",
        "        action = agent.choose_action(obs)\n",
        "        obs_, reward, done, info = env.step(action)\n",
        "        agent.store_rewards(reward)\n",
        "        obs = obs_\n",
        "        return_sample += reward\n",
        "      return_samples.append(return_sample)\n",
        "      if b_train: agent.compute_grad()\n",
        "    if b_train: agent.take_step(env.max_episode_length)\n",
        "    return_values.append(np.mean(return_samples))\n",
        "  if b_plot:\n",
        "    plt.figure(figsize=(3,2))\n",
        "    plt.plot(return_values)\n",
        "    if len(plot_title) < 1:\n",
        "      plot_title = ' (σ={})'.format(env.sigma)\n",
        "    plt.title('REINFORCE {} learning{}'.format(env.chosen_obs_names_str, plot_title))\n",
        "    plt.ylim(y_lim); plt.xlabel('episode'); plt.ylabel('return'); plt.grid(); plt.show()\n",
        "  return return_values\n",
        "\n",
        "def set_random_seed(seed):\n",
        "  np.random.seed(seed)\n",
        "  torch.manual_seed(seed)\n",
        "\n",
        "def  get_key(sigma, δd, εd, seed, chosen_obs_name):\n",
        "  str_detail = 'σ={} δd={} εd={} seed={} obs={}'.format(sigma, δd, εd, seed, '-'.join(chosen_obs_name))\n",
        "  str_key = str_detail.replace('.','').replace(' ','_').replace('-','').replace('=','')\n",
        "  return str_key"
      ]
    },
    {
      "cell_type": "code",
      "execution_count": null,
      "metadata": {
        "id": "Iv6BoJxUguGR"
      },
      "outputs": [],
      "source": []
    },
    {
      "cell_type": "markdown",
      "metadata": {
        "id": "q_KnzBpVC9XL"
      },
      "source": [
        "# 2. How to reproduce similar results to the paper\n",
        "\n",
        "To reproduce the results of the paper, you can choose larger number of episodes, repeats and M (REINFORCE number of samples), as indicated in the paper. Below, the number of episodes and repeats have been reduced to shorten the experiment durations in this notebook."
      ]
    },
    {
      "cell_type": "markdown",
      "metadata": {
        "id": "R_EGWaU_DC5I"
      },
      "source": [
        "## 2.1 Get the experiment configuration"
      ]
    },
    {
      "cell_type": "code",
      "execution_count": null,
      "metadata": {
        "id": "eh8cY59aFtUi"
      },
      "outputs": [],
      "source": [
        "n_episodes_dqn = 500\n",
        "n_episodes_reinforce = 5000\n",
        "n_episodes_perf = 1000\n",
        "sigma_list = [0, 0.4, 0.6, 0.8, 2]\n",
        "chosen_obs_list = [['P','H','D'], ['L','H','D']]\n",
        "δd = 0.1\n",
        "εd = 0.4"
      ]
    },
    {
      "cell_type": "markdown",
      "metadata": {
        "id": "Sidq4FaRFzE9"
      },
      "source": [
        "## 2.2 Run the experiments, over the $\\sigma$ values"
      ]
    },
    {
      "cell_type": "markdown",
      "metadata": {
        "id": "b-oS1rHBLEPC"
      },
      "source": [
        "### 2.2.1 JITAI env, with DQN"
      ]
    },
    {
      "cell_type": "code",
      "execution_count": null,
      "metadata": {
        "colab": {
          "base_uri": "https://localhost:8080/"
        },
        "id": "fqTcW7yQ8NBI",
        "outputId": "42218405-ca89-4fd3-81ad-020a4eecbbf1"
      },
      "outputs": [
        {
          "output_type": "stream",
          "name": "stdout",
          "text": [
            "env config: obs=P-H-D σ=0 δh=0.1 εh=0.05 δd=0.1 εd=0.4 µs=[0.1, 0.1] ρ1=50.0 ρ2=200.0 ρ3=0.0 D_threshold=1\n"
          ]
        },
        {
          "output_type": "stream",
          "name": "stderr",
          "text": [
            "DQN P-H-D σ=0 duration: 100%|██████████| 500/500 [01:47<00:00,  4.66it/s]\n",
            "DQN P-H-D σ=0 duration: 100%|██████████| 1000/1000 [01:02<00:00, 16.06it/s]\n"
          ]
        },
        {
          "output_type": "stream",
          "name": "stdout",
          "text": [
            "DQN P-H-D σ=0 returns len=1000 mean=3192.5\n",
            "----------------------------------------------------------\n",
            "env config: obs=L-H-D σ=0 δh=0.1 εh=0.05 δd=0.1 εd=0.4 µs=[0.1, 0.1] ρ1=50.0 ρ2=200.0 ρ3=0.0 D_threshold=1\n"
          ]
        },
        {
          "output_type": "stream",
          "name": "stderr",
          "text": [
            "DQN L-H-D σ=0 duration: 100%|██████████| 500/500 [01:45<00:00,  4.72it/s]\n",
            "DQN L-H-D σ=0 duration: 100%|██████████| 1000/1000 [01:02<00:00, 16.12it/s]\n"
          ]
        },
        {
          "output_type": "stream",
          "name": "stdout",
          "text": [
            "DQN L-H-D σ=0 returns len=1000 mean=3272.4\n",
            "----------------------------------------------------------\n",
            "env config: obs=P-H-D σ=0.4 δh=0.1 εh=0.05 δd=0.1 εd=0.4 µs=[0.1, 0.1] ρ1=50.0 ρ2=200.0 ρ3=0.0 D_threshold=1\n"
          ]
        },
        {
          "output_type": "stream",
          "name": "stderr",
          "text": [
            "DQN P-H-D σ=0.4 duration: 100%|██████████| 500/500 [01:49<00:00,  4.55it/s]\n",
            "DQN P-H-D σ=0.4 duration: 100%|██████████| 1000/1000 [01:13<00:00, 13.66it/s]\n"
          ]
        },
        {
          "output_type": "stream",
          "name": "stdout",
          "text": [
            "DQN P-H-D σ=0.4 returns len=1000 mean=3053.7\n",
            "----------------------------------------------------------\n",
            "env config: obs=L-H-D σ=0.4 δh=0.1 εh=0.05 δd=0.1 εd=0.4 µs=[0.1, 0.1] ρ1=50.0 ρ2=200.0 ρ3=0.0 D_threshold=1\n"
          ]
        },
        {
          "output_type": "stream",
          "name": "stderr",
          "text": [
            "DQN L-H-D σ=0.4 duration: 100%|██████████| 500/500 [01:39<00:00,  5.01it/s]\n",
            "DQN L-H-D σ=0.4 duration: 100%|██████████| 1000/1000 [01:05<00:00, 15.24it/s]\n"
          ]
        },
        {
          "output_type": "stream",
          "name": "stdout",
          "text": [
            "DQN L-H-D σ=0.4 returns len=1000 mean=2549.6\n",
            "----------------------------------------------------------\n",
            "env config: obs=P-H-D σ=0.6 δh=0.1 εh=0.05 δd=0.1 εd=0.4 µs=[0.1, 0.1] ρ1=50.0 ρ2=200.0 ρ3=0.0 D_threshold=1\n"
          ]
        },
        {
          "output_type": "stream",
          "name": "stderr",
          "text": [
            "DQN P-H-D σ=0.6 duration: 100%|██████████| 500/500 [01:12<00:00,  6.87it/s]\n",
            "DQN P-H-D σ=0.6 duration: 100%|██████████| 1000/1000 [01:05<00:00, 15.28it/s]\n"
          ]
        },
        {
          "output_type": "stream",
          "name": "stdout",
          "text": [
            "DQN P-H-D σ=0.6 returns len=1000 mean=2542.1\n",
            "----------------------------------------------------------\n",
            "env config: obs=L-H-D σ=0.6 δh=0.1 εh=0.05 δd=0.1 εd=0.4 µs=[0.1, 0.1] ρ1=50.0 ρ2=200.0 ρ3=0.0 D_threshold=1\n"
          ]
        },
        {
          "output_type": "stream",
          "name": "stderr",
          "text": [
            "DQN L-H-D σ=0.6 duration: 100%|██████████| 500/500 [01:00<00:00,  8.25it/s]\n",
            "DQN L-H-D σ=0.6 duration: 100%|██████████| 1000/1000 [00:42<00:00, 23.41it/s]\n"
          ]
        },
        {
          "output_type": "stream",
          "name": "stdout",
          "text": [
            "DQN L-H-D σ=0.6 returns len=1000 mean=1665.0\n",
            "----------------------------------------------------------\n",
            "env config: obs=P-H-D σ=0.8 δh=0.1 εh=0.05 δd=0.1 εd=0.4 µs=[0.1, 0.1] ρ1=50.0 ρ2=200.0 ρ3=0.0 D_threshold=1\n"
          ]
        },
        {
          "output_type": "stream",
          "name": "stderr",
          "text": [
            "DQN P-H-D σ=0.8 duration: 100%|██████████| 500/500 [00:57<00:00,  8.76it/s]\n",
            "DQN P-H-D σ=0.8 duration: 100%|██████████| 1000/1000 [00:50<00:00, 19.85it/s]\n"
          ]
        },
        {
          "output_type": "stream",
          "name": "stdout",
          "text": [
            "DQN P-H-D σ=0.8 returns len=1000 mean=1766.3\n",
            "----------------------------------------------------------\n",
            "env config: obs=L-H-D σ=0.8 δh=0.1 εh=0.05 δd=0.1 εd=0.4 µs=[0.1, 0.1] ρ1=50.0 ρ2=200.0 ρ3=0.0 D_threshold=1\n"
          ]
        },
        {
          "output_type": "stream",
          "name": "stderr",
          "text": [
            "DQN L-H-D σ=0.8 duration: 100%|██████████| 500/500 [00:42<00:00, 11.80it/s]\n",
            "DQN L-H-D σ=0.8 duration: 100%|██████████| 1000/1000 [00:29<00:00, 34.12it/s]\n"
          ]
        },
        {
          "output_type": "stream",
          "name": "stdout",
          "text": [
            "DQN L-H-D σ=0.8 returns len=1000 mean=1206.8\n",
            "----------------------------------------------------------\n",
            "env config: obs=P-H-D σ=2 δh=0.1 εh=0.05 δd=0.1 εd=0.4 µs=[0.1, 0.1] ρ1=50.0 ρ2=200.0 ρ3=0.0 D_threshold=1\n"
          ]
        },
        {
          "output_type": "stream",
          "name": "stderr",
          "text": [
            "DQN P-H-D σ=2 duration: 100%|██████████| 500/500 [00:23<00:00, 21.52it/s]\n",
            "DQN P-H-D σ=2 duration: 100%|██████████| 1000/1000 [01:12<00:00, 13.81it/s]\n"
          ]
        },
        {
          "output_type": "stream",
          "name": "stdout",
          "text": [
            "DQN P-H-D σ=2 returns len=1000 mean=670.4\n",
            "----------------------------------------------------------\n",
            "env config: obs=L-H-D σ=2 δh=0.1 εh=0.05 δd=0.1 εd=0.4 µs=[0.1, 0.1] ρ1=50.0 ρ2=200.0 ρ3=0.0 D_threshold=1\n"
          ]
        },
        {
          "output_type": "stream",
          "name": "stderr",
          "text": [
            "DQN L-H-D σ=2 duration: 100%|██████████| 500/500 [00:33<00:00, 14.99it/s]\n",
            "DQN L-H-D σ=2 duration: 100%|██████████| 1000/1000 [01:04<00:00, 15.55it/s]"
          ]
        },
        {
          "output_type": "stream",
          "name": "stdout",
          "text": [
            "DQN L-H-D σ=2 returns len=1000 mean=730.6\n",
            "----------------------------------------------------------\n"
          ]
        },
        {
          "output_type": "stream",
          "name": "stderr",
          "text": [
            "\n"
          ]
        }
      ],
      "source": [
        "perf_DQN = {}\n",
        "for sigma in sigma_list:\n",
        "  for chosen_obs_name in chosen_obs_list:\n",
        "    for seed in [0]:\n",
        "      str_key =  get_key(sigma, δd, εd, seed, chosen_obs_name)\n",
        "      set_random_seed(seed)\n",
        "      env0 = JITAI_env(sigma=sigma, δd=δd, εd=εd, chosen_obs_names=chosen_obs_name)\n",
        "      agent0 = DQNAgent(gamma=1, lr=5e-4, batch_size=64, input_dims=[env0.get_obs_length()], n_actions=4, fc1_dim=128, fc2_dim=128)\n",
        "      train_returns = run_RL_loop_DQN(env0, agent0, n_episodes_dqn,  b_train=True)\n",
        "      perf_returns  = run_RL_loop_DQN(env0, agent0, n_episodes_perf, b_train=False)\n",
        "      print('DQN {} σ={} returns len={} mean={:.1f}'.format(env0.chosen_obs_names_str, sigma, len(perf_returns), np.mean(perf_returns)))\n",
        "      perf_DQN[str_key] = perf_returns\n",
        "      print(DASH)"
      ]
    },
    {
      "cell_type": "code",
      "execution_count": null,
      "metadata": {
        "colab": {
          "base_uri": "https://localhost:8080/",
          "height": 256
        },
        "id": "bzJBHm_Qb9GJ",
        "outputId": "fefb1f4d-68cd-4936-c0d5-3b7ebdf8a13e"
      },
      "outputs": [
        {
          "output_type": "display_data",
          "data": {
            "text/plain": [
              "<Figure size 300x200 with 1 Axes>"
            ],
            "image/png": "[encoded data removed]"
          },
          "metadata": {}
        }
      ],
      "source": [
        "xs = []; ys_PHD = []; ys_LHD = []\n",
        "for chosen_sigma in sigma_list:\n",
        "  ys_PHD.append(np.mean(perf_DQN[get_key(chosen_sigma, δd, εd, seed=0, chosen_obs_name='PHD')]))\n",
        "  ys_LHD.append(np.mean(perf_DQN[get_key(chosen_sigma, δd, εd, seed=0, chosen_obs_name='LHD')]))\n",
        "  xs.append(env0.get_inferred_error(chosen_sigma))\n",
        "plt.figure(figsize=(3,2))\n",
        "plt.plot(xs, ys_PHD, label='PHD')\n",
        "plt.plot(xs, ys_LHD, label='LHD')\n",
        "plt.title('DQN P-H-D vs L-H-D'); plt.xlabel('error rate'); plt.ylabel('return')\n",
        "plt.ylim(500,3500); plt.grid(); plt.legend(); plt.show()"
      ]
    },
    {
      "cell_type": "markdown",
      "metadata": {
        "id": "-sCHn1S8Lice"
      },
      "source": [
        "### 2.2.2 JITAI env, with REINFORCE"
      ]
    },
    {
      "cell_type": "code",
      "execution_count": null,
      "metadata": {
        "colab": {
          "base_uri": "https://localhost:8080/"
        },
        "id": "NGbqs4Hvb9M5",
        "outputId": "79d5e571-b2ab-440d-c640-2e46dc361246"
      },
      "outputs": [
        {
          "output_type": "stream",
          "name": "stdout",
          "text": [
            "env config: obs=P-H-D σ=0 δh=0.1 εh=0.05 δd=0.1 εd=0.4 µs=[0.1, 0.1] ρ1=50.0 ρ2=200.0 ρ3=0.0 D_threshold=1\n"
          ]
        },
        {
          "output_type": "stream",
          "name": "stderr",
          "text": [
            "REINFORCE P-H-D σ=0 duration: 100%|██████████| 5000/5000 [07:43<00:00, 10.80it/s]\n",
            "REINFORCE P-H-D σ=0 duration: 100%|██████████| 1000/1000 [01:27<00:00, 11.45it/s]\n"
          ]
        },
        {
          "output_type": "stream",
          "name": "stdout",
          "text": [
            "REINFORCE P-H-D σ=0 returns len=1000 mean=3127.7\n",
            "----------------------------------------------------------\n",
            "env config: obs=L-H-D σ=0 δh=0.1 εh=0.05 δd=0.1 εd=0.4 µs=[0.1, 0.1] ρ1=50.0 ρ2=200.0 ρ3=0.0 D_threshold=1\n"
          ]
        },
        {
          "output_type": "stream",
          "name": "stderr",
          "text": [
            "REINFORCE L-H-D σ=0 duration: 100%|██████████| 5000/5000 [07:54<00:00, 10.55it/s]\n",
            "REINFORCE L-H-D σ=0 duration: 100%|██████████| 1000/1000 [01:23<00:00, 11.95it/s]\n"
          ]
        },
        {
          "output_type": "stream",
          "name": "stdout",
          "text": [
            "REINFORCE L-H-D σ=0 returns len=1000 mean=3062.3\n",
            "----------------------------------------------------------\n",
            "env config: obs=P-H-D σ=0.4 δh=0.1 εh=0.05 δd=0.1 εd=0.4 µs=[0.1, 0.1] ρ1=50.0 ρ2=200.0 ρ3=0.0 D_threshold=1\n"
          ]
        },
        {
          "output_type": "stream",
          "name": "stderr",
          "text": [
            "REINFORCE P-H-D σ=0.4 duration: 100%|██████████| 5000/5000 [08:12<00:00, 10.15it/s]\n",
            "REINFORCE P-H-D σ=0.4 duration: 100%|██████████| 1000/1000 [01:32<00:00, 10.78it/s]\n"
          ]
        },
        {
          "output_type": "stream",
          "name": "stdout",
          "text": [
            "REINFORCE P-H-D σ=0.4 returns len=1000 mean=2775.9\n",
            "----------------------------------------------------------\n",
            "env config: obs=L-H-D σ=0.4 δh=0.1 εh=0.05 δd=0.1 εd=0.4 µs=[0.1, 0.1] ρ1=50.0 ρ2=200.0 ρ3=0.0 D_threshold=1\n"
          ]
        },
        {
          "output_type": "stream",
          "name": "stderr",
          "text": [
            "REINFORCE L-H-D σ=0.4 duration: 100%|██████████| 5000/5000 [07:38<00:00, 10.92it/s]\n",
            "REINFORCE L-H-D σ=0.4 duration: 100%|██████████| 1000/1000 [01:24<00:00, 11.80it/s]\n"
          ]
        },
        {
          "output_type": "stream",
          "name": "stdout",
          "text": [
            "REINFORCE L-H-D σ=0.4 returns len=1000 mean=2514.0\n",
            "----------------------------------------------------------\n",
            "env config: obs=P-H-D σ=0.6 δh=0.1 εh=0.05 δd=0.1 εd=0.4 µs=[0.1, 0.1] ρ1=50.0 ρ2=200.0 ρ3=0.0 D_threshold=1\n"
          ]
        },
        {
          "output_type": "stream",
          "name": "stderr",
          "text": [
            "REINFORCE P-H-D σ=0.6 duration: 100%|██████████| 5000/5000 [07:26<00:00, 11.19it/s]\n",
            "REINFORCE P-H-D σ=0.6 duration: 100%|██████████| 1000/1000 [01:24<00:00, 11.86it/s]\n"
          ]
        },
        {
          "output_type": "stream",
          "name": "stdout",
          "text": [
            "REINFORCE P-H-D σ=0.6 returns len=1000 mean=2054.7\n",
            "----------------------------------------------------------\n",
            "env config: obs=L-H-D σ=0.6 δh=0.1 εh=0.05 δd=0.1 εd=0.4 µs=[0.1, 0.1] ρ1=50.0 ρ2=200.0 ρ3=0.0 D_threshold=1\n"
          ]
        },
        {
          "output_type": "stream",
          "name": "stderr",
          "text": [
            "REINFORCE L-H-D σ=0.6 duration: 100%|██████████| 5000/5000 [06:33<00:00, 12.70it/s]\n",
            "REINFORCE L-H-D σ=0.6 duration: 100%|██████████| 1000/1000 [01:04<00:00, 15.60it/s]\n"
          ]
        },
        {
          "output_type": "stream",
          "name": "stdout",
          "text": [
            "REINFORCE L-H-D σ=0.6 returns len=1000 mean=1767.6\n",
            "----------------------------------------------------------\n",
            "env config: obs=P-H-D σ=0.8 δh=0.1 εh=0.05 δd=0.1 εd=0.4 µs=[0.1, 0.1] ρ1=50.0 ρ2=200.0 ρ3=0.0 D_threshold=1\n"
          ]
        },
        {
          "output_type": "stream",
          "name": "stderr",
          "text": [
            "REINFORCE P-H-D σ=0.8 duration: 100%|██████████| 5000/5000 [07:45<00:00, 10.74it/s]\n",
            "REINFORCE P-H-D σ=0.8 duration: 100%|██████████| 1000/1000 [01:28<00:00, 11.26it/s]\n"
          ]
        },
        {
          "output_type": "stream",
          "name": "stdout",
          "text": [
            "REINFORCE P-H-D σ=0.8 returns len=1000 mean=1458.4\n",
            "----------------------------------------------------------\n",
            "env config: obs=L-H-D σ=0.8 δh=0.1 εh=0.05 δd=0.1 εd=0.4 µs=[0.1, 0.1] ρ1=50.0 ρ2=200.0 ρ3=0.0 D_threshold=1\n"
          ]
        },
        {
          "output_type": "stream",
          "name": "stderr",
          "text": [
            "REINFORCE L-H-D σ=0.8 duration: 100%|██████████| 5000/5000 [07:20<00:00, 11.35it/s]\n",
            "REINFORCE L-H-D σ=0.8 duration: 100%|██████████| 1000/1000 [01:18<00:00, 12.74it/s]\n"
          ]
        },
        {
          "output_type": "stream",
          "name": "stdout",
          "text": [
            "REINFORCE L-H-D σ=0.8 returns len=1000 mean=1504.7\n",
            "----------------------------------------------------------\n",
            "env config: obs=P-H-D σ=2 δh=0.1 εh=0.05 δd=0.1 εd=0.4 µs=[0.1, 0.1] ρ1=50.0 ρ2=200.0 ρ3=0.0 D_threshold=1\n"
          ]
        },
        {
          "output_type": "stream",
          "name": "stderr",
          "text": [
            "REINFORCE P-H-D σ=2 duration: 100%|██████████| 5000/5000 [07:57<00:00, 10.46it/s]\n",
            "REINFORCE P-H-D σ=2 duration: 100%|██████████| 1000/1000 [01:30<00:00, 11.06it/s]\n"
          ]
        },
        {
          "output_type": "stream",
          "name": "stdout",
          "text": [
            "REINFORCE P-H-D σ=2 returns len=1000 mean=1077.5\n",
            "----------------------------------------------------------\n",
            "env config: obs=L-H-D σ=2 δh=0.1 εh=0.05 δd=0.1 εd=0.4 µs=[0.1, 0.1] ρ1=50.0 ρ2=200.0 ρ3=0.0 D_threshold=1\n"
          ]
        },
        {
          "output_type": "stream",
          "name": "stderr",
          "text": [
            "REINFORCE L-H-D σ=2 duration: 100%|██████████| 5000/5000 [07:47<00:00, 10.69it/s]\n",
            "REINFORCE L-H-D σ=2 duration: 100%|██████████| 1000/1000 [01:31<00:00, 10.88it/s]"
          ]
        },
        {
          "output_type": "stream",
          "name": "stdout",
          "text": [
            "REINFORCE L-H-D σ=2 returns len=1000 mean=1118.9\n",
            "----------------------------------------------------------\n"
          ]
        },
        {
          "output_type": "stream",
          "name": "stderr",
          "text": [
            "\n"
          ]
        }
      ],
      "source": [
        "perf_REINFORCE = {}\n",
        "for sigma in sigma_list:\n",
        "  for chosen_obs_name in chosen_obs_list:\n",
        "    for seed in [0]:\n",
        "      str_key =  get_key(sigma, δd, εd, seed, chosen_obs_name)\n",
        "      set_random_seed(seed)\n",
        "      env1 = JITAI_env(sigma=sigma, δd=δd, εd=εd, chosen_obs_names=chosen_obs_name)\n",
        "      agent1 = ReinforceAgent(gamma=1, lr=6e-4, input_dims=[env1.get_obs_length()], n_actions=4, fc1_dim=128, fc2_dim=None)\n",
        "      train_returns = run_RL_loop_REINFORCE(env1, agent1, M=1, n_episodes=n_episodes_reinforce, b_train=True)\n",
        "      perf_returns  = run_RL_loop_REINFORCE(env1, agent1, M=1, n_episodes=n_episodes_perf,      b_train=False)\n",
        "      print('REINFORCE {} σ={} returns len={} mean={:.1f}'.format(env1.chosen_obs_names_str, sigma, len(perf_returns), np.mean(perf_returns)))\n",
        "      perf_REINFORCE[str_key] = perf_returns\n",
        "      print(DASH)"
      ]
    },
    {
      "cell_type": "code",
      "execution_count": null,
      "metadata": {
        "id": "juC4e7M2FYdo",
        "colab": {
          "base_uri": "https://localhost:8080/",
          "height": 256
        },
        "outputId": "73fa6fa5-e8e9-44d2-b0f9-68708967fca5"
      },
      "outputs": [
        {
          "output_type": "display_data",
          "data": {
            "text/plain": [
              "<Figure size 300x200 with 1 Axes>"
            ],
            "image/png": "[encoded data removed]"
          },
          "metadata": {}
        }
      ],
      "source": [
        "xs = []; ys_PHD = []; ys_LHD = []\n",
        "for chosen_sigma in sigma_list:\n",
        "  sigma_str = str(chosen_sigma).replace('.','')\n",
        "  ys_PHD.append(np.mean(perf_REINFORCE[get_key(chosen_sigma, δd, εd, seed=0, chosen_obs_name='PHD')]))\n",
        "  ys_LHD.append(np.mean(perf_REINFORCE[get_key(chosen_sigma, δd, εd, seed=0, chosen_obs_name='LHD')]))\n",
        "  xs.append(env1.get_inferred_error(chosen_sigma))\n",
        "plt.figure(figsize=(3,2))\n",
        "plt.plot(xs, ys_PHD, label='PHD')\n",
        "plt.plot(xs, ys_LHD, label='LHD')\n",
        "plt.title('REINFORCE P-H-D vs L-H-D'); plt.xlabel('error rate'); plt.ylabel('return')\n",
        "plt.ylim(500,3500); plt.grid(); plt.legend(); plt.show()"
      ]
    },
    {
      "cell_type": "code",
      "execution_count": null,
      "metadata": {
        "id": "i9fGXTf_AOyz"
      },
      "outputs": [],
      "source": []
    }
  ],
  "metadata": {
    "anaconda-cloud": {},
    "colab": {
      "provenance": []
    },
    "gpuClass": "standard",
    "kernelspec": {
      "display_name": "Python 3",
      "language": "python",
      "name": "python3"
    },
    "language_info": {
      "codemirror_mode": {
        "name": "ipython",
        "version": 3
      },
      "file_extension": ".py",
      "mimetype": "text/x-python",
      "name": "python",
      "nbconvert_exporter": "python",
      "pygments_lexer": "ipython3",
      "version": "3.7.3"
    }
  },
  "nbformat": 4,
  "nbformat_minor": 0
}